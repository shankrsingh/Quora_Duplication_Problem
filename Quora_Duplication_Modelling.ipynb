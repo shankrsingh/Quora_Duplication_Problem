{
 "cells": [
  {
   "cell_type": "code",
   "execution_count": 4,
   "metadata": {},
   "outputs": [],
   "source": [
    "import numpy as np\n",
    "import pandas as pd\n",
    "import matplotlib.pyplot as plt\n",
    "import seaborn as sns\n",
    "import warnings\n",
    "warnings.filterwarnings('ignore')\n",
    "%matplotlib inline"
   ]
  },
  {
   "cell_type": "code",
   "execution_count": 5,
   "metadata": {},
   "outputs": [],
   "source": [
    "from scikitplot.metrics import plot_confusion_matrix\n",
    "from sklearn.model_selection import train_test_split\n",
    "from sklearn.linear_model import SGDClassifier\n",
    "from sklearn.calibration import CalibratedClassifierCV\n",
    "from sklearn.metrics import log_loss"
   ]
  },
  {
   "cell_type": "code",
   "execution_count": 6,
   "metadata": {},
   "outputs": [],
   "source": [
    "df=pd.read_csv('final_features.csv')[:10000]"
   ]
  },
  {
   "cell_type": "code",
   "execution_count": 7,
   "metadata": {},
   "outputs": [
    {
     "name": "stdout",
     "output_type": "stream",
     "text": [
      "<class 'pandas.core.frame.DataFrame'>\n",
      "RangeIndex: 10000 entries, 0 to 9999\n",
      "Columns: 797 entries, Unnamed: 0 to 383_y\n",
      "dtypes: float64(782), int64(15)\n",
      "memory usage: 60.8 MB\n"
     ]
    }
   ],
   "source": [
    "df.info()"
   ]
  },
  {
   "cell_type": "code",
   "execution_count": 8,
   "metadata": {},
   "outputs": [],
   "source": [
    "ytrue=df.iloc[:,2]\n",
    "data=df.iloc[:,3:]"
   ]
  },
  {
   "cell_type": "code",
   "execution_count": 9,
   "metadata": {},
   "outputs": [],
   "source": [
    "xtrain,xtest, ytrain, ytest = train_test_split(data, ytrue, stratify=ytrue, test_size=0.3)"
   ]
  },
  {
   "cell_type": "code",
   "execution_count": 10,
   "metadata": {},
   "outputs": [
    {
     "name": "stdout",
     "output_type": "stream",
     "text": [
      "Number of data points in train data : (7000, 794)\n",
      "Number of data points in test data : (3000, 794)\n"
     ]
    }
   ],
   "source": [
    "print(\"Number of data points in train data :\",xtrain.shape)\n",
    "print(\"Number of data points in test data :\",xtest.shape)"
   ]
  },
  {
   "cell_type": "code",
   "execution_count": 11,
   "metadata": {},
   "outputs": [
    {
     "data": {
      "text/plain": [
       "<matplotlib.axes._subplots.AxesSubplot at 0x12638b44128>"
      ]
     },
     "execution_count": 11,
     "metadata": {},
     "output_type": "execute_result"
    },
    {
     "data": {
      "image/png": "[encoded data removed]",
      "text/plain": [
       "<Figure size 432x288 with 1 Axes>"
      ]
     },
     "metadata": {
      "needs_background": "light"
     },
     "output_type": "display_data"
    }
   ],
   "source": [
    "ytrain.value_counts().plot(kind='bar')"
   ]
  },
  {
   "cell_type": "code",
   "execution_count": 12,
   "metadata": {},
   "outputs": [
    {
     "data": {
      "text/plain": [
       "<matplotlib.axes._subplots.AxesSubplot at 0x125d20f6da0>"
      ]
     },
     "execution_count": 12,
     "metadata": {},
     "output_type": "execute_result"
    },
    {
     "data": {
      "image/png": "[encoded data removed]",
      "text/plain": [
       "<Figure size 432x288 with 1 Axes>"
      ]
     },
     "metadata": {
      "needs_background": "light"
     },
     "output_type": "display_data"
    }
   ],
   "source": [
    "ytest.value_counts().plot(kind='bar')"
   ]
  },
  {
   "cell_type": "code",
   "execution_count": 17,
   "metadata": {},
   "outputs": [],
   "source": [
    "def plot_hyperprm(log_error,nameofhyper='alpha',alpha=[],penal='l2',clf=None):\n",
    "    fig, ax = plt.subplots()\n",
    "    ax.plot(alpha, log_error,c='g')\n",
    "    #for i, txt in enumerate(np.round(log_error,3)):\n",
    "        #ax.annotate((alpha[i],np.round(txt,3)), (alpha[i],log_error[i]))\n",
    "    plt.grid()\n",
    "    plt.title(\"Cross Validation Error for each alpha\")\n",
    "    plt.xlabel(\"Alpha i's\")\n",
    "    plt.ylabel(\"Error measure\")\n",
    "    plt.show()\n",
    "    \n",
    "    \n",
    "    best_alpha = np.argmin(log_error)\n",
    "    if clf is None:\n",
    "        clf = SGDClassifier(alpha=alpha[best_alpha], loss='log', random_state=42,penalty=penal)\n",
    "    clf.fit(xtrain, ytrain)\n",
    "    c_clf = CalibratedClassifierCV(clf, method=\"sigmoid\")\n",
    "    c_clf.fit(xtrain, ytrain)\n",
    "    predict_y = c_clf.predict_proba(xtrain)\n",
    "    print('For values of best alpha = ', alpha[best_alpha], \"The train log loss is:\",log_loss(ytrain, predict_y, labels=clf.classes_))\n",
    "    predict_y =c_clf.predict_proba(xtest)\n",
    "    print('For values of best alpha = ', alpha[best_alpha], \"The test log loss is:\",log_loss(ytest, predict_y, labels=clf.classes_))\n",
    "    predicted_y =np.argmax(predict_y,axis=1)\n",
    "    print(\"Total number of data points :\", len(predicted_y))\n",
    "    print('Penalty is ',penal)\n",
    "    plot_confusion_matrix(ytest, predicted_y)"
   ]
  },
  {
   "cell_type": "markdown",
   "metadata": {},
   "source": [
    "LOGISTIC REGRESSION"
   ]
  },
  {
   "cell_type": "code",
   "execution_count": 14,
   "metadata": {},
   "outputs": [
    {
     "name": "stdout",
     "output_type": "stream",
     "text": [
      "Log loss for alpha = 1e-05 is  0.6594858906574842\n",
      "Log loss for alpha = 0.0001 is  0.6594858906574842\n",
      "Log loss for alpha = 0.001 is  0.5384682275546733\n",
      "Log loss for alpha = 0.01 is  0.5238014184122929\n",
      "Log loss for alpha = 0.1 is  0.5217894409008929\n",
      "Log loss for alpha = 1 is  0.5210272160054925\n",
      "Log loss for alpha = 10 is  0.5335506203587573\n"
     ]
    },
    {
     "data": {
      "image/png": "[encoded data removed]",
      "text/plain": [
       "<Figure size 432x288 with 1 Axes>"
      ]
     },
     "metadata": {
      "needs_background": "light"
     },
     "output_type": "display_data"
    },
    {
     "name": "stdout",
     "output_type": "stream",
     "text": [
      "For values of best alpha =  1 The train log loss is: 0.4692714014914615\n",
      "For values of best alpha =  1 The test log loss is: 0.5210272160054925\n",
      "Total number of data points : 3000\n",
      "Penalty is  l2\n"
     ]
    },
    {
     "data": {
      "image/png": "[encoded data removed]",
      "text/plain": [
       "<Figure size 432x288 with 2 Axes>"
      ]
     },
     "metadata": {
      "needs_background": "light"
     },
     "output_type": "display_data"
    }
   ],
   "source": [
    "alpha=[10 ** x for x in range(-5,2)]\n",
    "log_error=[]\n",
    "for a in alpha:\n",
    "    clf=SGDClassifier(loss='log',alpha=a,random_state=42)\n",
    "    clf.fit(xtrain,ytrain)\n",
    "    c_clf=CalibratedClassifierCV(clf)\n",
    "    c_clf.fit(xtrain,ytrain)\n",
    "    predicted_y=c_clf.predict_proba(xtest)\n",
    "    l=log_loss(ytest,predicted_y,labels=clf.classes_)\n",
    "    log_error.append(l)\n",
    "    print('Log loss for alpha = {} is  {}'.format(a,l))\n",
    "plot_hyperprm(log_error,'alpha',alpha)    "
   ]
  },
  {
   "cell_type": "markdown",
   "metadata": {},
   "source": [
    "LINEAR SVM"
   ]
  },
  {
   "cell_type": "code",
   "execution_count": 16,
   "metadata": {},
   "outputs": [
    {
     "name": "stdout",
     "output_type": "stream",
     "text": [
      "Log loss for alpha = 1e-05 is  0.6594858906574842\n",
      "Log loss for alpha = 0.0001 is  0.6594858906574842\n",
      "Log loss for alpha = 0.001 is  0.6594858906574842\n",
      "Log loss for alpha = 0.01 is  0.6594858906574842\n",
      "Log loss for alpha = 0.1 is  0.6594858906574842\n",
      "Log loss for alpha = 1 is  0.6594858906574842\n",
      "Log loss for alpha = 10 is  0.6594858906574842\n"
     ]
    },
    {
     "ename": "TypeError",
     "evalue": "plot_hyperprm() got an unexpected keyword argument 'clf'",
     "output_type": "error",
     "traceback": [
      "\u001b[1;31m---------------------------------------------------------------------------\u001b[0m",
      "\u001b[1;31mTypeError\u001b[0m                                 Traceback (most recent call last)",
      "\u001b[1;32m<ipython-input-16-99e2d3a8d5b8>\u001b[0m in \u001b[0;36m<module>\u001b[1;34m\u001b[0m\n\u001b[0;32m     12\u001b[0m     \u001b[0mprint\u001b[0m\u001b[1;33m(\u001b[0m\u001b[1;34m'Log loss for alpha = {} is  {}'\u001b[0m\u001b[1;33m.\u001b[0m\u001b[0mformat\u001b[0m\u001b[1;33m(\u001b[0m\u001b[0ma\u001b[0m\u001b[1;33m,\u001b[0m\u001b[0ml\u001b[0m\u001b[1;33m)\u001b[0m\u001b[1;33m)\u001b[0m\u001b[1;33m\u001b[0m\u001b[1;33m\u001b[0m\u001b[0m\n\u001b[0;32m     13\u001b[0m \u001b[1;33m\u001b[0m\u001b[0m\n\u001b[1;32m---> 14\u001b[1;33m \u001b[0mplot_hyperprm\u001b[0m\u001b[1;33m(\u001b[0m\u001b[0mlog_error\u001b[0m\u001b[1;33m,\u001b[0m\u001b[1;34m'alpha'\u001b[0m\u001b[1;33m,\u001b[0m\u001b[0malpha\u001b[0m\u001b[1;33m,\u001b[0m\u001b[0mpenal\u001b[0m\u001b[1;33m=\u001b[0m\u001b[1;34m'l1'\u001b[0m\u001b[1;33m,\u001b[0m\u001b[0mclf\u001b[0m\u001b[1;33m=\u001b[0m\u001b[0mclf\u001b[0m\u001b[1;33m)\u001b[0m\u001b[1;33m\u001b[0m\u001b[1;33m\u001b[0m\u001b[0m\n\u001b[0m",
      "\u001b[1;31mTypeError\u001b[0m: plot_hyperprm() got an unexpected keyword argument 'clf'"
     ]
    }
   ],
   "source": [
    "alpha=[10**x for x in range(-5,2)]\n",
    "log_error=[]\n",
    "\n",
    "for a in alpha:\n",
    "    clf=SGDClassifier(loss='hinge',random_state=42,alpha=a,penalty='l1')\n",
    "    clf.fit(xtrain,ytrain)\n",
    "    c_clf=CalibratedClassifierCV(clf)\n",
    "    c_clf.fit(xtrain,ytrain)\n",
    "    y_prob=c_clf.predict_proba(xtest)\n",
    "    l=log_loss(ytest,y_prob,labels=clf.classes_)\n",
    "    log_error.append(l)\n",
    "    print('Log loss for alpha = {} is  {}'.format(a,l))\n",
    "    \n",
    "plot_hyperprm(log_error,'alpha',alpha,penal='l1',clf=clf)"
   ]
  },
  {
   "cell_type": "code",
   "execution_count": null,
   "metadata": {},
   "outputs": [],
   "source": [
    "import xgboost as xgb"
   ]
  },
  {
   "cell_type": "code",
   "execution_count": 18,
   "metadata": {},
   "outputs": [
    {
     "name": "stdout",
     "output_type": "stream",
     "text": [
      "\n",
      "\n",
      "\t For eta=0.028\t max_depth=4 \n",
      "\n",
      "\n",
      "\n",
      "[0]\ttrain-logloss:0.681789\tvalid-logloss:0.681917\n",
      "Multiple eval metrics have been passed: 'valid-logloss' will be used for early stopping.\n",
      "\n",
      "Will train until valid-logloss hasn't improved in 20 rounds.\n",
      "[10]\ttrain-logloss:0.588521\tvalid-logloss:0.591856\n",
      "[20]\ttrain-logloss:0.527861\tvalid-logloss:0.53332\n",
      "[30]\ttrain-logloss:0.485711\tvalid-logloss:0.494008\n",
      "[40]\ttrain-logloss:0.455131\tvalid-logloss:0.46619\n",
      "[50]\ttrain-logloss:0.432584\tvalid-logloss:0.446345\n",
      "[60]\ttrain-logloss:0.415326\tvalid-logloss:0.431875\n",
      "[70]\ttrain-logloss:0.40213\tvalid-logloss:0.420763\n",
      "[80]\ttrain-logloss:0.391275\tvalid-logloss:0.41271\n",
      "[90]\ttrain-logloss:0.38205\tvalid-logloss:0.406481\n",
      "[100]\ttrain-logloss:0.374019\tvalid-logloss:0.401275\n",
      "[110]\ttrain-logloss:0.367\tvalid-logloss:0.397416\n",
      "[120]\ttrain-logloss:0.360763\tvalid-logloss:0.394216\n",
      "[130]\ttrain-logloss:0.35455\tvalid-logloss:0.391311\n",
      "[140]\ttrain-logloss:0.349136\tvalid-logloss:0.388818\n",
      "[150]\ttrain-logloss:0.343882\tvalid-logloss:0.386467\n",
      "[160]\ttrain-logloss:0.338186\tvalid-logloss:0.384708\n",
      "[170]\ttrain-logloss:0.333259\tvalid-logloss:0.383662\n",
      "[180]\ttrain-logloss:0.328021\tvalid-logloss:0.38255\n",
      "[190]\ttrain-logloss:0.322671\tvalid-logloss:0.381831\n",
      "[200]\ttrain-logloss:0.317458\tvalid-logloss:0.380663\n",
      "[210]\ttrain-logloss:0.313308\tvalid-logloss:0.379828\n",
      "[220]\ttrain-logloss:0.308452\tvalid-logloss:0.378602\n",
      "[230]\ttrain-logloss:0.304069\tvalid-logloss:0.37772\n",
      "[240]\ttrain-logloss:0.30043\tvalid-logloss:0.377177\n",
      "[250]\ttrain-logloss:0.29621\tvalid-logloss:0.376914\n",
      "[260]\ttrain-logloss:0.292217\tvalid-logloss:0.376318\n",
      "[270]\ttrain-logloss:0.287957\tvalid-logloss:0.376006\n",
      "[280]\ttrain-logloss:0.28443\tvalid-logloss:0.37561\n",
      "[290]\ttrain-logloss:0.28057\tvalid-logloss:0.375272\n",
      "[300]\ttrain-logloss:0.276765\tvalid-logloss:0.374869\n",
      "[310]\ttrain-logloss:0.272445\tvalid-logloss:0.374466\n",
      "[320]\ttrain-logloss:0.269026\tvalid-logloss:0.374121\n",
      "[330]\ttrain-logloss:0.264928\tvalid-logloss:0.373625\n",
      "[340]\ttrain-logloss:0.261338\tvalid-logloss:0.373116\n",
      "[350]\ttrain-logloss:0.25787\tvalid-logloss:0.372771\n",
      "[360]\ttrain-logloss:0.254095\tvalid-logloss:0.372541\n",
      "[370]\ttrain-logloss:0.251001\tvalid-logloss:0.372321\n",
      "[380]\ttrain-logloss:0.246984\tvalid-logloss:0.37216\n",
      "[390]\ttrain-logloss:0.244091\tvalid-logloss:0.372071\n",
      "[400]\ttrain-logloss:0.240686\tvalid-logloss:0.371747\n",
      "[410]\ttrain-logloss:0.236866\tvalid-logloss:0.371399\n",
      "[420]\ttrain-logloss:0.233509\tvalid-logloss:0.371063\n",
      "[430]\ttrain-logloss:0.230038\tvalid-logloss:0.370989\n",
      "[440]\ttrain-logloss:0.22718\tvalid-logloss:0.370946\n",
      "[450]\ttrain-logloss:0.224333\tvalid-logloss:0.37083\n",
      "Stopping. Best iteration:\n",
      "[436]\ttrain-logloss:0.228287\tvalid-logloss:0.370753\n",
      "\n",
      "The test log loss is: 0.3708581568262501     0.028 4\n",
      "\n",
      "\n",
      "\t For eta=0.0285\t max_depth=4 \n",
      "\n",
      "\n",
      "\n",
      "[0]\ttrain-logloss:0.681591\tvalid-logloss:0.68172\n",
      "Multiple eval metrics have been passed: 'valid-logloss' will be used for early stopping.\n",
      "\n",
      "Will train until valid-logloss hasn't improved in 20 rounds.\n",
      "[10]\ttrain-logloss:0.587043\tvalid-logloss:0.590648\n",
      "[20]\ttrain-logloss:0.525868\tvalid-logloss:0.531675\n",
      "[30]\ttrain-logloss:0.48369\tvalid-logloss:0.492718\n",
      "[40]\ttrain-logloss:0.453361\tvalid-logloss:0.464929\n",
      "[50]\ttrain-logloss:0.430976\tvalid-logloss:0.445405\n",
      "[60]\ttrain-logloss:0.413861\tvalid-logloss:0.431021\n",
      "[70]\ttrain-logloss:0.400588\tvalid-logloss:0.419903\n",
      "[80]\ttrain-logloss:0.389828\tvalid-logloss:0.411866\n",
      "[90]\ttrain-logloss:0.380524\tvalid-logloss:0.405747\n",
      "[100]\ttrain-logloss:0.372723\tvalid-logloss:0.400418\n",
      "[110]\ttrain-logloss:0.36573\tvalid-logloss:0.396663\n",
      "[120]\ttrain-logloss:0.359187\tvalid-logloss:0.393457\n",
      "[130]\ttrain-logloss:0.353226\tvalid-logloss:0.390826\n",
      "[140]\ttrain-logloss:0.348119\tvalid-logloss:0.38863\n",
      "[150]\ttrain-logloss:0.343154\tvalid-logloss:0.386739\n",
      "[160]\ttrain-logloss:0.336985\tvalid-logloss:0.385159\n",
      "[170]\ttrain-logloss:0.332352\tvalid-logloss:0.383411\n",
      "[180]\ttrain-logloss:0.326754\tvalid-logloss:0.381506\n",
      "[190]\ttrain-logloss:0.321847\tvalid-logloss:0.380032\n",
      "[200]\ttrain-logloss:0.316723\tvalid-logloss:0.379453\n",
      "[210]\ttrain-logloss:0.312659\tvalid-logloss:0.378416\n",
      "[220]\ttrain-logloss:0.307919\tvalid-logloss:0.377712\n",
      "[230]\ttrain-logloss:0.303911\tvalid-logloss:0.377271\n",
      "[240]\ttrain-logloss:0.299279\tvalid-logloss:0.376919\n",
      "[250]\ttrain-logloss:0.295181\tvalid-logloss:0.376197\n",
      "[260]\ttrain-logloss:0.291364\tvalid-logloss:0.375545\n",
      "[270]\ttrain-logloss:0.28744\tvalid-logloss:0.375128\n",
      "[280]\ttrain-logloss:0.28299\tvalid-logloss:0.374679\n",
      "[290]\ttrain-logloss:0.278989\tvalid-logloss:0.374341\n",
      "[300]\ttrain-logloss:0.275213\tvalid-logloss:0.373801\n",
      "[310]\ttrain-logloss:0.271145\tvalid-logloss:0.373462\n",
      "[320]\ttrain-logloss:0.267342\tvalid-logloss:0.373278\n",
      "[330]\ttrain-logloss:0.263459\tvalid-logloss:0.373156\n",
      "[340]\ttrain-logloss:0.259835\tvalid-logloss:0.372647\n",
      "[350]\ttrain-logloss:0.255625\tvalid-logloss:0.372424\n",
      "[360]\ttrain-logloss:0.251693\tvalid-logloss:0.372025\n",
      "[370]\ttrain-logloss:0.248254\tvalid-logloss:0.371867\n",
      "[380]\ttrain-logloss:0.244751\tvalid-logloss:0.371733\n",
      "[390]\ttrain-logloss:0.24103\tvalid-logloss:0.371387\n",
      "[400]\ttrain-logloss:0.23776\tvalid-logloss:0.371554\n",
      "Stopping. Best iteration:\n",
      "[389]\ttrain-logloss:0.241406\tvalid-logloss:0.371321\n",
      "\n",
      "The test log loss is: 0.37169822936848507     0.0285 4\n",
      "\n",
      "\n",
      "\t For eta=0.029\t max_depth=4 \n",
      "\n",
      "\n",
      "\n",
      "[0]\ttrain-logloss:0.681389\tvalid-logloss:0.681521\n",
      "Multiple eval metrics have been passed: 'valid-logloss' will be used for early stopping.\n",
      "\n",
      "Will train until valid-logloss hasn't improved in 20 rounds.\n",
      "[10]\ttrain-logloss:0.585536\tvalid-logloss:0.589125\n",
      "[20]\ttrain-logloss:0.524019\tvalid-logloss:0.529999\n",
      "[30]\ttrain-logloss:0.481698\tvalid-logloss:0.490779\n",
      "[40]\ttrain-logloss:0.451369\tvalid-logloss:0.463005\n",
      "[50]\ttrain-logloss:0.429023\tvalid-logloss:0.443563\n",
      "[60]\ttrain-logloss:0.412003\tvalid-logloss:0.429472\n",
      "[70]\ttrain-logloss:0.399093\tvalid-logloss:0.418631\n",
      "[80]\ttrain-logloss:0.388339\tvalid-logloss:0.410799\n",
      "[90]\ttrain-logloss:0.379241\tvalid-logloss:0.404816\n",
      "[100]\ttrain-logloss:0.371626\tvalid-logloss:0.399979\n",
      "[110]\ttrain-logloss:0.364189\tvalid-logloss:0.39648\n",
      "[120]\ttrain-logloss:0.357898\tvalid-logloss:0.393263\n",
      "[130]\ttrain-logloss:0.352203\tvalid-logloss:0.390701\n",
      "[140]\ttrain-logloss:0.346685\tvalid-logloss:0.388634\n",
      "[150]\ttrain-logloss:0.342022\tvalid-logloss:0.386773\n",
      "[160]\ttrain-logloss:0.336586\tvalid-logloss:0.385193\n",
      "[170]\ttrain-logloss:0.330607\tvalid-logloss:0.383177\n",
      "[180]\ttrain-logloss:0.325421\tvalid-logloss:0.381649\n",
      "[190]\ttrain-logloss:0.319981\tvalid-logloss:0.3806\n",
      "[200]\ttrain-logloss:0.315616\tvalid-logloss:0.379563\n",
      "[210]\ttrain-logloss:0.311616\tvalid-logloss:0.378692\n",
      "[220]\ttrain-logloss:0.306582\tvalid-logloss:0.378219\n",
      "[230]\ttrain-logloss:0.302698\tvalid-logloss:0.377281\n",
      "[240]\ttrain-logloss:0.298047\tvalid-logloss:0.376569\n",
      "[250]\ttrain-logloss:0.293522\tvalid-logloss:0.375902\n",
      "[260]\ttrain-logloss:0.289446\tvalid-logloss:0.375567\n",
      "[270]\ttrain-logloss:0.285229\tvalid-logloss:0.374829\n",
      "[280]\ttrain-logloss:0.280355\tvalid-logloss:0.374507\n",
      "[290]\ttrain-logloss:0.276389\tvalid-logloss:0.37404\n",
      "[300]\ttrain-logloss:0.272946\tvalid-logloss:0.373817\n",
      "[310]\ttrain-logloss:0.268703\tvalid-logloss:0.373449\n",
      "[320]\ttrain-logloss:0.264553\tvalid-logloss:0.373223\n",
      "[330]\ttrain-logloss:0.260774\tvalid-logloss:0.373042\n",
      "[340]\ttrain-logloss:0.257285\tvalid-logloss:0.372566\n",
      "[350]\ttrain-logloss:0.253798\tvalid-logloss:0.372363\n",
      "[360]\ttrain-logloss:0.250011\tvalid-logloss:0.372261\n",
      "[370]\ttrain-logloss:0.246587\tvalid-logloss:0.371951\n",
      "[380]\ttrain-logloss:0.243296\tvalid-logloss:0.371617\n",
      "[390]\ttrain-logloss:0.239391\tvalid-logloss:0.371515\n",
      "[400]\ttrain-logloss:0.236526\tvalid-logloss:0.371431\n",
      "[410]\ttrain-logloss:0.232892\tvalid-logloss:0.37133\n",
      "[420]\ttrain-logloss:0.229718\tvalid-logloss:0.37114\n",
      "[430]\ttrain-logloss:0.226524\tvalid-logloss:0.371116\n",
      "[440]\ttrain-logloss:0.223527\tvalid-logloss:0.371527\n",
      "Stopping. Best iteration:\n",
      "[423]\ttrain-logloss:0.228796\tvalid-logloss:0.37099\n",
      "\n",
      "The test log loss is: 0.371380358133271     0.029 4\n",
      "\n",
      "\n",
      "\t For eta=0.0295\t max_depth=4 \n",
      "\n",
      "\n",
      "\n",
      "[0]\ttrain-logloss:0.68119\tvalid-logloss:0.681325\n",
      "Multiple eval metrics have been passed: 'valid-logloss' will be used for early stopping.\n",
      "\n",
      "Will train until valid-logloss hasn't improved in 20 rounds.\n",
      "[10]\ttrain-logloss:0.58411\tvalid-logloss:0.587764\n",
      "[20]\ttrain-logloss:0.522199\tvalid-logloss:0.528285\n",
      "[30]\ttrain-logloss:0.479871\tvalid-logloss:0.488936\n",
      "[40]\ttrain-logloss:0.449646\tvalid-logloss:0.46165\n",
      "[50]\ttrain-logloss:0.427356\tvalid-logloss:0.442263\n",
      "[60]\ttrain-logloss:0.410415\tvalid-logloss:0.427891\n",
      "[70]\ttrain-logloss:0.397375\tvalid-logloss:0.417465\n",
      "[80]\ttrain-logloss:0.386835\tvalid-logloss:0.409885\n",
      "[90]\ttrain-logloss:0.37808\tvalid-logloss:0.404136\n",
      "[100]\ttrain-logloss:0.370177\tvalid-logloss:0.399426\n",
      "[110]\ttrain-logloss:0.363009\tvalid-logloss:0.39563\n",
      "[120]\ttrain-logloss:0.356531\tvalid-logloss:0.392362\n",
      "[130]\ttrain-logloss:0.350887\tvalid-logloss:0.389848\n",
      "[140]\ttrain-logloss:0.345403\tvalid-logloss:0.387165\n",
      "[150]\ttrain-logloss:0.340111\tvalid-logloss:0.385406\n",
      "[160]\ttrain-logloss:0.334213\tvalid-logloss:0.383832\n",
      "[170]\ttrain-logloss:0.32883\tvalid-logloss:0.382387\n",
      "[180]\ttrain-logloss:0.323386\tvalid-logloss:0.38141\n",
      "[190]\ttrain-logloss:0.317783\tvalid-logloss:0.38022\n",
      "[200]\ttrain-logloss:0.313573\tvalid-logloss:0.379182\n",
      "[210]\ttrain-logloss:0.309225\tvalid-logloss:0.378671\n",
      "[220]\ttrain-logloss:0.305004\tvalid-logloss:0.378015\n",
      "[230]\ttrain-logloss:0.300467\tvalid-logloss:0.377392\n",
      "[240]\ttrain-logloss:0.295931\tvalid-logloss:0.377053\n",
      "[250]\ttrain-logloss:0.291773\tvalid-logloss:0.376558\n",
      "[260]\ttrain-logloss:0.286727\tvalid-logloss:0.375603\n",
      "[270]\ttrain-logloss:0.282892\tvalid-logloss:0.37533\n",
      "[280]\ttrain-logloss:0.279053\tvalid-logloss:0.374908\n",
      "[290]\ttrain-logloss:0.274675\tvalid-logloss:0.373997\n",
      "[300]\ttrain-logloss:0.270464\tvalid-logloss:0.373822\n",
      "[310]\ttrain-logloss:0.266662\tvalid-logloss:0.373591\n",
      "[320]\ttrain-logloss:0.262617\tvalid-logloss:0.373149\n",
      "[330]\ttrain-logloss:0.258624\tvalid-logloss:0.372841\n",
      "[340]\ttrain-logloss:0.255283\tvalid-logloss:0.372574\n",
      "[350]\ttrain-logloss:0.251355\tvalid-logloss:0.372224\n",
      "[360]\ttrain-logloss:0.247748\tvalid-logloss:0.372191\n",
      "[370]\ttrain-logloss:0.244277\tvalid-logloss:0.371802\n",
      "[380]\ttrain-logloss:0.240323\tvalid-logloss:0.371553\n",
      "[390]\ttrain-logloss:0.236999\tvalid-logloss:0.371278\n",
      "[400]\ttrain-logloss:0.23305\tvalid-logloss:0.371098\n",
      "[410]\ttrain-logloss:0.230113\tvalid-logloss:0.37066\n",
      "[420]\ttrain-logloss:0.226246\tvalid-logloss:0.37075\n",
      "[430]\ttrain-logloss:0.223278\tvalid-logloss:0.370804\n",
      "[440]\ttrain-logloss:0.219679\tvalid-logloss:0.370455\n",
      "[450]\ttrain-logloss:0.216164\tvalid-logloss:0.370661\n",
      "[460]\ttrain-logloss:0.212749\tvalid-logloss:0.37024\n",
      "[470]\ttrain-logloss:0.209702\tvalid-logloss:0.370304\n",
      "[480]\ttrain-logloss:0.206603\tvalid-logloss:0.370195\n",
      "[490]\ttrain-logloss:0.203807\tvalid-logloss:0.370338\n",
      "[500]\ttrain-logloss:0.200644\tvalid-logloss:0.370154\n",
      "[510]\ttrain-logloss:0.197709\tvalid-logloss:0.370394\n",
      "Stopping. Best iteration:\n",
      "[499]\ttrain-logloss:0.200993\tvalid-logloss:0.370124\n",
      "\n",
      "The test log loss is: 0.3702640740126371     0.0295 4\n"
     ]
    }
   ],
   "source": [
    "params = {}\n",
    "#eta=[i**x for x in range(-2,0) for i in [1,2,3]]\n",
    "#eta=[0.002,0.001,0.01,0.02]\n",
    "#eta=[0.020,0.022,0.025,0.026,0.028]\n",
    "eta=[0.0280,0.0285,0.0290,0.0295]\n",
    "max_depth=[4]\n",
    "params['objective'] = 'binary:logistic'\n",
    "params['eval_metric'] = 'logloss'\n",
    "x={}\n",
    "for e in eta:\n",
    "    for d in max_depth:\n",
    "        params['eta'] = e\n",
    "        params['max_depth'] = d\n",
    "        print('\\n\\n\\t For eta={}\\t max_depth={} \\n\\n\\n'.format(e,d))\n",
    "        d_train = xgb.DMatrix(xtrain, label=ytrain)\n",
    "        d_test = xgb.DMatrix(xtest, label=ytest)\n",
    "\n",
    "        watchlist = [(d_train, 'train'), (d_test, 'valid')]\n",
    "\n",
    "        bst = xgb.train(params, d_train, 600, watchlist, early_stopping_rounds=20, verbose_eval=10)\n",
    "\n",
    "        xgdmat = xgb.DMatrix(xtrain,ytrain)\n",
    "        predict_y = bst.predict(d_test)\n",
    "        l=log_loss(ytest, predict_y, labels=clf.classes_)\n",
    "        x[str(e)+','+str(d)]=l\n",
    "        print(\"The test log loss is:\",l,\"   \",e,d)\n",
    "        # plot feature importance\n",
    "        #xgb.plot_importance(bst)\n",
    "        #plt.show()"
   ]
  },
  {
   "cell_type": "code",
   "execution_count": 110,
   "metadata": {},
   "outputs": [],
   "source": [
    "#xold\n",
    "#x = dict(x, **xold); d4.update(d3)\n",
    "x = dict(x, **xold)\n",
    "#best -  [0.02 ,4/8]"
   ]
  },
  {
   "cell_type": "code",
   "execution_count": 20,
   "metadata": {},
   "outputs": [
    {
     "data": {
      "text/plain": [
       "{'0.028,4': 0.3708581568262501,\n",
       " '0.0285,4': 0.37169822936848507,\n",
       " '0.029,4': 0.371380358133271,\n",
       " '0.0295,4': 0.3702640740126371}"
      ]
     },
     "execution_count": 20,
     "metadata": {},
     "output_type": "execute_result"
    }
   ],
   "source": [
    "x"
   ]
  },
  {
   "cell_type": "code",
   "execution_count": 19,
   "metadata": {},
   "outputs": [
    {
     "data": {
      "image/png": "[encoded data removed]",
      "text/plain": [
       "<Figure size 864x1296 with 1 Axes>"
      ]
     },
     "metadata": {
      "needs_background": "light"
     },
     "output_type": "display_data"
    }
   ],
   "source": [
    "fig, ax = plt.subplots(figsize=(12,18))\n",
    "xgb.plot_importance(bst, max_num_features=50, height=0.8, ax=ax)\n",
    "plt.show()"
   ]
  },
  {
   "cell_type": "code",
   "execution_count": null,
   "metadata": {},
   "outputs": [],
   "source": []
  }
 ],
 "metadata": {
  "kernelspec": {
   "display_name": "Python 3",
   "language": "python",
   "name": "python3"
  },
  "language_info": {
   "codemirror_mode": {
    "name": "ipython",
    "version": 3
   },
   "file_extension": ".py",
   "mimetype": "text/x-python",
   "name": "python",
   "nbconvert_exporter": "python",
   "pygments_lexer": "ipython3",
   "version": "3.6.8"
  }
 },
 "nbformat": 4,
 "nbformat_minor": 4
}
