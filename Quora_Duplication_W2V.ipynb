{
 "cells": [
  {
   "cell_type": "code",
   "execution_count": 18,
   "metadata": {},
   "outputs": [],
   "source": [
    "import numpy as np\n",
    "import pandas as pd\n",
    "import matplotlib.pyplot as plt\n",
    "import warnings\n",
    "from progressbar import progressbar as p\n",
    "import spacy\n",
    "warnings.filterwarnings('ignore')"
   ]
  },
  {
   "cell_type": "code",
   "execution_count": 14,
   "metadata": {},
   "outputs": [],
   "source": [
    "from sklearn.feature_extraction.text import TfidfVectorizer"
   ]
  },
  {
   "cell_type": "code",
   "execution_count": 15,
   "metadata": {},
   "outputs": [],
   "source": [
    "df=pd.read_csv('train.csv')\n",
    "df['question1'] = df['question1'].apply(lambda x: str(x))\n",
    "df['question2'] = df['question2'].apply(lambda x: str(x))"
   ]
  },
  {
   "cell_type": "code",
   "execution_count": 17,
   "metadata": {},
   "outputs": [],
   "source": [
    "ques=list(df['question1'])+list(df['question2'])\n",
    "tfidf=TfidfVectorizer(lowercase=False)\n",
    "tfidf.fit_transform(ques)\n",
    "\n",
    "wordtf = dict(zip(tfidf.get_feature_names(), tfidf.idf_))"
   ]
  },
  {
   "cell_type": "code",
   "execution_count": null,
   "metadata": {},
   "outputs": [],
   "source": []
  },
  {
   "cell_type": "code",
   "execution_count": 19,
   "metadata": {},
   "outputs": [
    {
     "name": "stderr",
     "output_type": "stream",
     "text": [
      "100% (404290 of 404290) |################| Elapsed Time: 0:56:47 Time:  0:56:47\n",
      "100% (404290 of 404290) |################| Elapsed Time: 1:04:48 Time:  1:04:48\n"
     ]
    }
   ],
   "source": [
    "nlp = spacy.load('en_core_web_sm')\n",
    "ls=[list(df['question1']),list(df['question2'])]\n",
    "\n",
    "for i,l in enumerate(ls):\n",
    "    vecs=[]\n",
    "    for q in p(l):\n",
    "        \n",
    "        doc=nlp(q)\n",
    "        mean_vec=np.zeros([len(doc),len(doc[0].vector)])\n",
    "        for word in doc:\n",
    "            vec=word.vector\n",
    "            \n",
    "            try:\n",
    "                idf = wordtf[str(word)]\n",
    "                \n",
    "            except:\n",
    "                idf = 0\n",
    "        \n",
    "            mean_vec += vec * idf\n",
    "        mean_vec = mean_vec.mean(axis=0)\n",
    "        vecs.append(mean_vec)\n",
    "    df['w2v_q_'+str(i)]=list(vecs)\n",
    "    \n",
    "    \n",
    "    \n",
    "        \n"
   ]
  },
  {
   "cell_type": "code",
   "execution_count": null,
   "metadata": {},
   "outputs": [],
   "source": [
    "df.to_csv('w2v.csv')"
   ]
  },
  {
   "cell_type": "code",
   "execution_count": 39,
   "metadata": {},
   "outputs": [],
   "source": [
    "#Reading Processed files\n",
    "\n",
    "nlp=pd.read_csv('nlp_features.csv',encoding='latin-1')\n",
    "pre_nlp=pd.read_csv('pre_nlp.csv',encoding='latin-1')"
   ]
  },
  {
   "cell_type": "code",
   "execution_count": null,
   "metadata": {},
   "outputs": [],
   "source": [
    "#Preprocessing dataframes for final table\n",
    "nlp=nlp.drop(nlp.columns.tolist()[1:5],axis=1)\n",
    "pre_nlp=pre_nlp.drop(pre_nlp.columns.tolist()[1:6],axis=1)\n",
    "df=df.drop(df.columns.tolist()[1:6],axis=1)"
   ]
  },
  {
   "cell_type": "code",
   "execution_count": 45,
   "metadata": {},
   "outputs": [],
   "source": [
    "#Converting list to Dataframe\n",
    "dfq1=pd.DataFrame(df['w2v_q_0'].values.tolist(),index=df.index)\n",
    "dfq2=pd.DataFrame(df['w2v_q_1'].values.tolist(),index=df.index)"
   ]
  },
  {
   "cell_type": "code",
   "execution_count": null,
   "metadata": {},
   "outputs": [],
   "source": [
    "#merging all and saving\n",
    "if not os.path.isfile('final_features.csv'):\n",
    "    dfq1['id']=nlp['id']\n",
    "    dfq2['id']=nlp['id']\n",
    "    nlp  = nlp.merge(pre_nlp, on='id',how='left') #nlp=nlp+pre\n",
    "    pre_nlp  = dfq1.merge(dfq2, on='id',how='left') #pre=q1+q2\n",
    "    result  = nlp.merge(pre_nlp, on='id',how='left') #rsult=pre+nlp\n",
    "    result.to_csv('final_features.csv')\n"
   ]
  },
  {
   "cell_type": "code",
   "execution_count": null,
   "metadata": {},
   "outputs": [],
   "source": []
  },
  {
   "cell_type": "code",
   "execution_count": null,
   "metadata": {},
   "outputs": [],
   "source": []
  },
  {
   "cell_type": "code",
   "execution_count": null,
   "metadata": {},
   "outputs": [],
   "source": []
  }
 ],
 "metadata": {
  "kernelspec": {
   "display_name": "Python 3",
   "language": "python",
   "name": "python3"
  },
  "language_info": {
   "codemirror_mode": {
    "name": "ipython",
    "version": 3
   },
   "file_extension": ".py",
   "mimetype": "text/x-python",
   "name": "python",
   "nbconvert_exporter": "python",
   "pygments_lexer": "ipython3",
   "version": "3.6.8"
  }
 },
 "nbformat": 4,
 "nbformat_minor": 4
}
